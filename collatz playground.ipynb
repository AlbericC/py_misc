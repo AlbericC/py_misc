{
 "metadata": {
  "name": ""
 },
 "nbformat": 3,
 "nbformat_minor": 0,
 "worksheets": [
  {
   "cells": [
    {
     "cell_type": "code",
     "collapsed": false,
     "input": [
      "qtconsole"
     ],
     "language": "python",
     "metadata": {},
     "outputs": [],
     "prompt_number": 1
    },
    {
     "cell_type": "code",
     "collapsed": false,
     "input": [
      "LIMIT = 3e6\n",
      "y = list(range(int(LIMIT)))"
     ],
     "language": "python",
     "metadata": {},
     "outputs": [],
     "prompt_number": 14
    },
    {
     "cell_type": "code",
     "collapsed": false,
     "input": [
      "import matplotlib.pyplot as plt\n",
      "\n",
      "from time import time,sleep\n",
      "from functools import wraps\n",
      "\n",
      "def talkative(message=\"\"):\n",
      "    \"\"\"decorator for custom trace of a function\"\"\"\n",
      "    def talker(function):\n",
      "        def wrapper(*args, **kwargs):\n",
      "            print(message, function.__name__, args, kwargs)\n",
      "            return function(*args, **kwargs)\n",
      "        return wrapper\n",
      "    return talker\n",
      "    \n",
      "def timed(f):\n",
      "    \"\"\"Decorator for (rough) performance measure\"\"\"\n",
      "    @wraps(f)\n",
      "    def wrapper(*args, **kwds):\n",
      "        start = time()\n",
      "        result = f(*args, **kwds)\n",
      "        elapsed = time() - start\n",
      "        if elapsed:\n",
      "            print(\"\\t\\t\\t{}{} took {b:03.2f} s to finish\"\n",
      "                  .format(f.__name__, args, kwds, b=elapsed))\n",
      "        return result\n",
      "    return wrapper\n",
      "    \n",
      "class Memoize:\n",
      "    def __init__(self, function):\n",
      "        \"\"\"gives Memoize capability to a function\"\"\"\n",
      "        self.function = function\n",
      "        self.__name__ = function.__name__\n",
      "        self.__doc__ = \"::Memoize decorated::\\n\" + str(function.__doc__)\n",
      "        self.memoized = dict()\n",
      "\n",
      "    def __call__(self, *args):\n",
      "        if args in self.memoized:\n",
      "            return self.memoized.get(args)\n",
      "        else:\n",
      "            try:\n",
      "                ans = self.memoized[args] = self.function(*args)\n",
      "            except RuntimeError as e:\n",
      "                print(\"{} with {}\".format(e.args,args))\n",
      "                ans = 0\n",
      "            return ans\n",
      "\n",
      "def collatz(n):\n",
      "    \"\"\"next number in Collatz sequence\"\"\"\n",
      "    if n <= 1:\n",
      "        return 1\n",
      "    return n // 2 if n % 2 == 0 else 3 * n + 1\n",
      "\n",
      "\n",
      "@Memoize\n",
      "def collatz_len(n):\n",
      "    if n <=1:\n",
      "        return 1\n",
      "    return collatz_len(collatz(n)) + 1\n",
      "\n",
      "\n",
      "def collatz_seq(n):\n",
      "    \"\"\"generator of collatz sequences\"\"\"\n",
      "    i = n\n",
      "    while i is not 1:\n",
      "        yield i\n",
      "        i = collatz(i)\n",
      "    yield 1\n",
      "    \n"
     ],
     "language": "python",
     "metadata": {},
     "outputs": [
      {
       "output_type": "stream",
       "stream": "stdout",
       "text": [
        "('maximum recursion depth exceeded in comparison',) with (2318078,)\n",
        "('maximum recursion depth exceeded in comparison',) with (2438152,)\n",
        "('maximum recursion depth exceeded in comparison',) with (3964132,)"
       ]
      },
      {
       "output_type": "stream",
       "stream": "stdout",
       "text": [
        "\n",
        "('maximum recursion depth exceeded in comparison',) with (841570,)"
       ]
      },
      {
       "output_type": "stream",
       "stream": "stdout",
       "text": [
        "\n",
        "('maximum recursion depth exceeded in comparison',) with (190769,)"
       ]
      },
      {
       "output_type": "stream",
       "stream": "stdout",
       "text": [
        "\n",
        "('maximum recursion depth exceeded in comparison',) with (1228504,)\n",
        "('maximum recursion depth exceeded in comparison',) with (1399688,)"
       ]
      },
      {
       "output_type": "stream",
       "stream": "stdout",
       "text": [
        "\n",
        "('maximum recursion depth exceeded in comparison',) with (294824,)"
       ]
      },
      {
       "output_type": "stream",
       "stream": "stdout",
       "text": [
        "\n",
        "('maximum recursion depth exceeded in comparison',) with (11117068,)\n",
        "('maximum recursion depth exceeded in comparison',) with (12530645,)"
       ]
      },
      {
       "output_type": "stream",
       "stream": "stdout",
       "text": [
        "\n",
        "('maximum recursion depth exceeded in comparison',) with (2210476,)"
       ]
      },
      {
       "output_type": "stream",
       "stream": "stdout",
       "text": [
        "\n",
        "('maximum recursion depth exceeded in comparison',) with (13447037,)\n",
        "('maximum recursion depth exceeded in comparison',) with (409177,)"
       ]
      },
      {
       "output_type": "stream",
       "stream": "stdout",
       "text": [
        "\n",
        "('maximum recursion depth exceeded in comparison',) with (3795140284,)"
       ]
      },
      {
       "output_type": "stream",
       "stream": "stdout",
       "text": [
        "\n",
        "('maximum recursion depth exceeded in comparison',) with (3150256,)"
       ]
      },
      {
       "output_type": "stream",
       "stream": "stdout",
       "text": [
        "\n",
        "('maximum recursion depth exceeded in comparison',) with (3237937,)\n",
        "('maximum recursion depth exceeded in comparison',) with (3284071,)"
       ]
      },
      {
       "output_type": "stream",
       "stream": "stdout",
       "text": [
        "\n",
        "('maximum recursion depth exceeded in comparison',) with (19800152,)\n",
        "('maximum recursion depth exceeded in comparison',) with (3329680,)\n",
        "('maximum recursion depth exceeded in comparison',) with (22612850,)"
       ]
      },
      {
       "output_type": "stream",
       "stream": "stdout",
       "text": [
        "\n",
        "('maximum recursion depth exceeded in comparison',) with (653261,)"
       ]
      },
      {
       "output_type": "stream",
       "stream": "stdout",
       "text": [
        "\n",
        "('maximum recursion depth exceeded in comparison',) with (141333781,)\n",
        "('maximum recursion depth exceeded in comparison',) with (24482614,)"
       ]
      },
      {
       "output_type": "stream",
       "stream": "stdout",
       "text": [
        "\n",
        "('maximum recursion depth exceeded in comparison',) with (881906042,)\n",
        "('maximum recursion depth exceeded in comparison',) with (4146461,)\n",
        "('maximum recursion depth exceeded in comparison',) with (156471100,)"
       ]
      },
      {
       "output_type": "stream",
       "stream": "stdout",
       "text": [
        "\n",
        "('maximum recursion depth exceeded in comparison',) with (4679554,)"
       ]
      },
      {
       "output_type": "stream",
       "stream": "stdout",
       "text": [
        "\n",
        "('maximum recursion depth exceeded in comparison',) with (5289212,)"
       ]
      },
      {
       "output_type": "stream",
       "stream": "stdout",
       "text": [
        "\n",
        "('maximum recursion depth exceeded in comparison',) with (5370698,)\n",
        "('maximum recursion depth exceeded in comparison',) with (5413606,)"
       ]
      },
      {
       "output_type": "stream",
       "stream": "stdout",
       "text": [
        "\n",
        "('maximum recursion depth exceeded in comparison',) with (34382897,)"
       ]
      },
      {
       "output_type": "stream",
       "stream": "stdout",
       "text": [
        "\n",
        "('maximum recursion depth exceeded in comparison',) with (1012295,)"
       ]
      },
      {
       "output_type": "stream",
       "stream": "stdout",
       "text": [
        "\n",
        "('maximum recursion depth exceeded in comparison',) with (6171478,)\n",
        "('maximum recursion depth exceeded in comparison',) with (1066313,)"
       ]
      },
      {
       "output_type": "stream",
       "stream": "stdout",
       "text": [
        "\n",
        "('maximum recursion depth exceeded in comparison',) with (39091666,)"
       ]
      },
      {
       "output_type": "stream",
       "stream": "stdout",
       "text": [
        "\n",
        "('maximum recursion depth exceeded in comparison',) with (6609782,)\n",
        "('maximum recursion depth exceeded in comparison',) with (241440262,)"
       ]
      },
      {
       "output_type": "stream",
       "stream": "stdout",
       "text": [
        "\n",
        "('maximum recursion depth exceeded in comparison',) with (244302844,)\n",
        "('maximum recursion depth exceeded in comparison',) with (259469369,)"
       ]
      },
      {
       "output_type": "stream",
       "stream": "stdout",
       "text": [
        "\n",
        "('maximum recursion depth exceeded in comparison',) with (1204949,)\n",
        "('maximum recursion depth exceeded in comparison',) with (268306330,)"
       ]
      },
      {
       "output_type": "stream",
       "stream": "stdout",
       "text": [
        "\n",
        "('maximum recursion depth exceeded in comparison',) with (46982929,)"
       ]
      },
      {
       "output_type": "stream",
       "stream": "stdout",
       "text": [
        "\n",
        "('maximum recursion depth exceeded in comparison',) with (7897072,)\n",
        "('maximum recursion depth exceeded in comparison',) with (1328492,)"
       ]
      },
      {
       "output_type": "stream",
       "stream": "stdout",
       "text": [
        "\n",
        "('maximum recursion depth exceeded in comparison',) with (1426700,)"
       ]
      },
      {
       "output_type": "stream",
       "stream": "stdout",
       "text": [
        "\n",
        "('maximum recursion depth exceeded in comparison',) with (8651227,)\n",
        "('maximum recursion depth exceeded in comparison',) with (53859188,)"
       ]
      },
      {
       "output_type": "stream",
       "stream": "stdout",
       "text": [
        "\n",
        "('maximum recursion depth exceeded in comparison',) with (9033802,)\n",
        "('maximum recursion depth exceeded in comparison',) with (9077402,)\n",
        "('maximum recursion depth exceeded in comparison',) with (1521223,)"
       ]
      },
      {
       "output_type": "stream",
       "stream": "stdout",
       "text": [
        "\n",
        "('maximum recursion depth exceeded in comparison',) with (57206249,)"
       ]
      },
      {
       "output_type": "stream",
       "stream": "stdout",
       "text": [
        "\n",
        "('maximum recursion depth exceeded in comparison',) with (1626151,)"
       ]
      },
      {
       "output_type": "stream",
       "stream": "stdout",
       "text": [
        "\n",
        "('maximum recursion depth exceeded in comparison',) with (9818242,)\n",
        "('maximum recursion depth exceeded in comparison',) with (60263444,)"
       ]
      },
      {
       "output_type": "stream",
       "stream": "stdout",
       "text": [
        "\n",
        "('maximum recursion depth exceeded in comparison',) with (61461716,)"
       ]
      },
      {
       "output_type": "stream",
       "stream": "stdout",
       "text": [
        "\n",
        "('maximum recursion depth exceeded in comparison',) with (10564108,)"
       ]
      },
      {
       "output_type": "stream",
       "stream": "stdout",
       "text": [
        "\n",
        "('maximum recursion depth exceeded in comparison',) with (10747429,)"
       ]
      },
      {
       "output_type": "stream",
       "stream": "stdout",
       "text": [
        "\n"
       ]
      }
     ],
     "prompt_number": 9
    },
    {
     "cell_type": "code",
     "collapsed": false,
     "input": [
      "### Compute X\n",
      "x = [collatz_len(i) for i in y]"
     ],
     "language": "python",
     "metadata": {},
     "outputs": [
      {
       "output_type": "stream",
       "stream": "stdout",
       "text": [
        "\n"
       ]
      }
     ],
     "prompt_number": 16
    },
    {
     "cell_type": "code",
     "collapsed": false,
     "input": [
      "### PLOT IT ALL\n",
      "plt.title(\"Stopping times\")\n",
      "\n",
      "plt.subplot(311)\n",
      "plt.plot(x,y,',')\n",
      "\n",
      "plt.subplot(312)\n",
      "plt.yscale(\"log\")\n",
      "plt.plot(x,y,',')\n",
      "\n",
      "plt.subplot(313)\n",
      "plt.yscale(\"log\")\n",
      "plt.xscale(\"log\")\n",
      "plt.plot(x,y,',')\n",
      "\n",
      "#plt.subplot(313)\n",
      "#plt.hist(x,bins=100)\n",
      "plt.show()\n",
      "\n",
      "### to show collatz sequences \n",
      "#for i in range(1,50):\n",
      "#    plt.plot(list(collatz_seq(i)))"
     ],
     "language": "python",
     "metadata": {},
     "outputs": [],
     "prompt_number": 18
    }
   ],
   "metadata": {}
  }
 ]
}