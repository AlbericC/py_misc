{
 "worksheets": [
  {
   "cells": [
    {
     "cell_type": "code",
     "metadata": {},
     "outputs": [],
     "input": [
      "qtconsole"
     ],
     "language": "python",
     "prompt_number": 4
    },
    {
     "cell_type": "code",
     "metadata": {},
     "outputs": [],
     "input": [
      "LIMIT = 3e6\n",
      "y = list(range(int(LIMIT)))"
     ],
     "language": "python",
     "prompt_number": 79
    },
    {
     "cell_type": "code",
     "metadata": {},
     "outputs": [],
     "input": [
      "import matplotlib.pyplot as plt\n",
      "\n",
      "from time import time,sleep\n",
      "from functools import wraps\n",
      "\n",
      "def talkative(message=\"\"):\n",
      "    \"\"\"decorator for custom trace of a function\"\"\"\n",
      "    def talker(function):\n",
      "        def wrapper(*args, **kwargs):\n",
      "            print(message, function.__name__, args, kwargs)\n",
      "            return function(*args, **kwargs)\n",
      "        return wrapper\n",
      "    return talker\n",
      "    \n",
      "def timed(f):\n",
      "    \"\"\"Decorator for (rough) performance measure\"\"\"\n",
      "    @wraps(f)\n",
      "    def wrapper(*args, **kwds):\n",
      "        start = time()\n",
      "        result = f(*args, **kwds)\n",
      "        elapsed = time() - start\n",
      "        if elapsed:\n",
      "            print(\"\\t\\t\\t{}{} took {b:03.2f} s to finish\"\n",
      "                  .format(f.__name__, args, kwds, b=elapsed))\n",
      "        return result\n",
      "    return wrapper\n",
      "    \n",
      "class Memoize:\n",
      "    def __init__(self, function):\n",
      "        \"\"\"gives Memoize capability to a function\"\"\"\n",
      "        self.function = function\n",
      "        self.__name__ = function.__name__\n",
      "        self.__doc__ = \"::Memoize decorated::\\n\" + str(function.__doc__)\n",
      "        self.memoized = dict()\n",
      "\n",
      "    def __call__(self, *args, **kwargs):\n",
      "        if args in self.memoized:\n",
      "            return self.memoized.get(args, kwargs)\n",
      "        else:\n",
      "            try:\n",
      "                ans = self.memoized[args] = self.function(*args)\n",
      "            except RuntimeError as e:\n",
      "                print(\"{} with {}\".format(e.args,args))\n",
      "                ans = 0\n",
      "            return ans\n",
      "\n",
      "def collatz(n):\n",
      "    \"\"\"next number in Collatz sequence\"\"\"\n",
      "    if n <= 1:\n",
      "        return 1\n",
      "    return n // 2 if n % 2 == 0 else 3 * n + 1\n",
      "\n",
      "\n",
      "@Memoize\n",
      "def collatz_len(n):\n",
      "    if n <=1:\n",
      "        return 1\n",
      "    return collatz_len(collatz(n)) + 1\n",
      "\n",
      "\n",
      "def collatz_seq(n):\n",
      "    \"\"\"generator of collatz sequences\"\"\"\n",
      "    i = n\n",
      "    while i is not 1:\n",
      "        yield i\n",
      "        i = collatz(i)\n",
      "    yield 1\n",
      "\n",
      "@Memoize\n",
      "def syracantecedents(n,*args, limit=False):\n",
      "    if getattr(n,'__iter__',False):\n",
      "        r = set()\n",
      "        for k in n:\n",
      "            r = r.union(syracantecedents(k,limit=limit))\n",
      "    else:\n",
      "        r = set()\n",
      "        if limit:\n",
      "            if n <= limit//2:\n",
      "                r.add(2*n)\n",
      "        else: \n",
      "            r.add(2*n)\n",
      "        if not (n - 1) % 3:\n",
      "            v = (n - 1) // 3\n",
      "            if v:  # avoid adding zero\n",
      "                r.add((n - 1) // 3)\n",
      "    return tuple(sorted(r))"
     ],
     "language": "python",
     "prompt_number": 18
    },
    {
     "cell_type": "code",
     "metadata": {},
     "outputs": [
      {
       "output_type": "stream",
       "stream": "stdout",
       "text": [
        "('maximum recursion depth exceeded in comparison',) with (2318078,)\n",
        "('maximum recursion depth exceeded in comparison',) with (2438152,)\n",
        "('maximum recursion depth exceeded in comparison',) with (3964132,)"
       ]
      },
      {
       "output_type": "stream",
       "stream": "stdout",
       "text": [
        "\n",
        "('maximum recursion depth exceeded in comparison',) with (841570,)"
       ]
      },
      {
       "output_type": "stream",
       "stream": "stdout",
       "text": [
        "\n",
        "('maximum recursion depth exceeded in comparison',) with (190769,)"
       ]
      },
      {
       "output_type": "stream",
       "stream": "stdout",
       "text": [
        "\n",
        "('maximum recursion depth exceeded in comparison',) with (1228504,)\n",
        "('maximum recursion depth exceeded in comparison',) with (1399688,)"
       ]
      },
      {
       "output_type": "stream",
       "stream": "stdout",
       "text": [
        "\n",
        "('maximum recursion depth exceeded in comparison',) with (294824,)"
       ]
      },
      {
       "output_type": "stream",
       "stream": "stdout",
       "text": [
        "\n",
        "('maximum recursion depth exceeded in comparison',) with (11117068,)\n",
        "('maximum recursion depth exceeded in comparison',) with (12530645,)"
       ]
      },
      {
       "output_type": "stream",
       "stream": "stdout",
       "text": [
        "\n",
        "('maximum recursion depth exceeded in comparison',) with (2210476,)"
       ]
      },
      {
       "output_type": "stream",
       "stream": "stdout",
       "text": [
        "\n",
        "('maximum recursion depth exceeded in comparison',) with (13447037,)\n",
        "('maximum recursion depth exceeded in comparison',) with (409177,)"
       ]
      },
      {
       "output_type": "stream",
       "stream": "stdout",
       "text": [
        "\n",
        "('maximum recursion depth exceeded in comparison',) with (3795140284,)"
       ]
      },
      {
       "output_type": "stream",
       "stream": "stdout",
       "text": [
        "\n",
        "('maximum recursion depth exceeded in comparison',) with (3150256,)"
       ]
      },
      {
       "output_type": "stream",
       "stream": "stdout",
       "text": [
        "\n",
        "('maximum recursion depth exceeded in comparison',) with (3237937,)\n",
        "('maximum recursion depth exceeded in comparison',) with (3284071,)"
       ]
      },
      {
       "output_type": "stream",
       "stream": "stdout",
       "text": [
        "\n",
        "('maximum recursion depth exceeded in comparison',) with (19800152,)\n",
        "('maximum recursion depth exceeded in comparison',) with (3329680,)\n",
        "('maximum recursion depth exceeded in comparison',) with (22612850,)"
       ]
      },
      {
       "output_type": "stream",
       "stream": "stdout",
       "text": [
        "\n",
        "('maximum recursion depth exceeded in comparison',) with (653261,)"
       ]
      },
      {
       "output_type": "stream",
       "stream": "stdout",
       "text": [
        "\n",
        "('maximum recursion depth exceeded in comparison',) with (141333781,)\n",
        "('maximum recursion depth exceeded in comparison',) with (24482614,)"
       ]
      },
      {
       "output_type": "stream",
       "stream": "stdout",
       "text": [
        "\n",
        "('maximum recursion depth exceeded in comparison',) with (881906042,)\n",
        "('maximum recursion depth exceeded in comparison',) with (4146461,)\n",
        "('maximum recursion depth exceeded in comparison',) with (156471100,)"
       ]
      },
      {
       "output_type": "stream",
       "stream": "stdout",
       "text": [
        "\n",
        "('maximum recursion depth exceeded in comparison',) with (4679554,)"
       ]
      },
      {
       "output_type": "stream",
       "stream": "stdout",
       "text": [
        "\n",
        "('maximum recursion depth exceeded in comparison',) with (5289212,)"
       ]
      },
      {
       "output_type": "stream",
       "stream": "stdout",
       "text": [
        "\n",
        "('maximum recursion depth exceeded in comparison',) with (5370698,)\n",
        "('maximum recursion depth exceeded in comparison',) with (5413606,)"
       ]
      },
      {
       "output_type": "stream",
       "stream": "stdout",
       "text": [
        "\n",
        "('maximum recursion depth exceeded in comparison',) with (34382897,)"
       ]
      },
      {
       "output_type": "stream",
       "stream": "stdout",
       "text": [
        "\n",
        "('maximum recursion depth exceeded in comparison',) with (1012295,)"
       ]
      },
      {
       "output_type": "stream",
       "stream": "stdout",
       "text": [
        "\n",
        "('maximum recursion depth exceeded in comparison',) with (6171478,)\n",
        "('maximum recursion depth exceeded in comparison',) with (1066313,)"
       ]
      },
      {
       "output_type": "stream",
       "stream": "stdout",
       "text": [
        "\n",
        "('maximum recursion depth exceeded in comparison',) with (39091666,)"
       ]
      },
      {
       "output_type": "stream",
       "stream": "stdout",
       "text": [
        "\n",
        "('maximum recursion depth exceeded in comparison',) with (6609782,)\n",
        "('maximum recursion depth exceeded in comparison',) with (241440262,)"
       ]
      },
      {
       "output_type": "stream",
       "stream": "stdout",
       "text": [
        "\n",
        "('maximum recursion depth exceeded in comparison',) with (244302844,)\n",
        "('maximum recursion depth exceeded in comparison',) with (259469369,)"
       ]
      },
      {
       "output_type": "stream",
       "stream": "stdout",
       "text": [
        "\n",
        "('maximum recursion depth exceeded in comparison',) with (1204949,)\n",
        "('maximum recursion depth exceeded in comparison',) with (268306330,)"
       ]
      },
      {
       "output_type": "stream",
       "stream": "stdout",
       "text": [
        "\n",
        "('maximum recursion depth exceeded in comparison',) with (46982929,)"
       ]
      },
      {
       "output_type": "stream",
       "stream": "stdout",
       "text": [
        "\n",
        "('maximum recursion depth exceeded in comparison',) with (7897072,)\n",
        "('maximum recursion depth exceeded in comparison',) with (1328492,)"
       ]
      },
      {
       "output_type": "stream",
       "stream": "stdout",
       "text": [
        "\n",
        "('maximum recursion depth exceeded in comparison',) with (1426700,)"
       ]
      },
      {
       "output_type": "stream",
       "stream": "stdout",
       "text": [
        "\n",
        "('maximum recursion depth exceeded in comparison',) with (8651227,)\n",
        "('maximum recursion depth exceeded in comparison',) with (53859188,)"
       ]
      },
      {
       "output_type": "stream",
       "stream": "stdout",
       "text": [
        "\n",
        "('maximum recursion depth exceeded in comparison',) with (9033802,)\n",
        "('maximum recursion depth exceeded in comparison',) with (9077402,)\n",
        "('maximum recursion depth exceeded in comparison',) with (1521223,)"
       ]
      },
      {
       "output_type": "stream",
       "stream": "stdout",
       "text": [
        "\n",
        "('maximum recursion depth exceeded in comparison',) with (57206249,)"
       ]
      },
      {
       "output_type": "stream",
       "stream": "stdout",
       "text": [
        "\n",
        "('maximum recursion depth exceeded in comparison',) with (1626151,)"
       ]
      },
      {
       "output_type": "stream",
       "stream": "stdout",
       "text": [
        "\n",
        "('maximum recursion depth exceeded in comparison',) with (9818242,)\n",
        "('maximum recursion depth exceeded in comparison',) with (60263444,)"
       ]
      },
      {
       "output_type": "stream",
       "stream": "stdout",
       "text": [
        "\n",
        "('maximum recursion depth exceeded in comparison',) with (61461716,)"
       ]
      },
      {
       "output_type": "stream",
       "stream": "stdout",
       "text": [
        "\n",
        "('maximum recursion depth exceeded in comparison',) with (10564108,)"
       ]
      },
      {
       "output_type": "stream",
       "stream": "stdout",
       "text": [
        "\n",
        "('maximum recursion depth exceeded in comparison',) with (10747429,)"
       ]
      },
      {
       "output_type": "stream",
       "stream": "stdout",
       "text": [
        "\n",
        "('maximum recursion depth exceeded in comparison',) with (400753060,)"
       ]
      },
      {
       "output_type": "stream",
       "stream": "stdout",
       "text": [
        "\n",
        "('maximum recursion depth exceeded in comparison',) with (2439620329,)"
       ]
      },
      {
       "output_type": "stream",
       "stream": "stdout",
       "text": [
        "\n",
        "('maximum recursion depth exceeded in comparison',) with (408641543,)\n",
        "('maximum recursion depth exceeded in comparison',) with (11355920,)\n",
        "('maximum recursion depth exceeded in comparison',) with (68632648,)"
       ]
      },
      {
       "output_type": "stream",
       "stream": "stdout",
       "text": [
        "\n",
        "('maximum recursion depth exceeded in comparison',) with (11440162,)\n",
        "('maximum recursion depth exceeded in comparison',) with (418361314,)"
       ]
      },
      {
       "output_type": "stream",
       "stream": "stdout",
       "text": [
        "\n",
        "('maximum recursion depth exceeded in comparison',) with (422121392,)\n",
        "('maximum recursion depth exceeded in comparison',) with (11955226,)"
       ]
      },
      {
       "output_type": "stream",
       "stream": "stdout",
       "text": [
        "\n",
        "('maximum recursion depth exceeded in comparison',) with (73203146,)"
       ]
      },
      {
       "output_type": "stream",
       "stream": "stdout",
       "text": [
        "\n",
        "('maximum recursion depth exceeded in comparison',) with (2639577233,)\n",
        "('maximum recursion depth exceeded in comparison',) with (73425616,)\n",
        "('maximum recursion depth exceeded in comparison',) with (74281138,)"
       ]
      },
      {
       "output_type": "stream",
       "stream": "stdout",
       "text": [
        "\n",
        "('maximum recursion depth exceeded in comparison',) with (74834603,)\n",
        "('maximum recursion depth exceeded in comparison',) with (12537958,)"
       ]
      },
      {
       "output_type": "stream",
       "stream": "stdout",
       "text": [
        "\n",
        "('maximum recursion depth exceeded in comparison',) with (457230256,)"
       ]
      },
      {
       "output_type": "stream",
       "stream": "stdout",
       "text": [
        "\n",
        "('maximum recursion depth exceeded in comparison',) with (12727528,)\n",
        "('maximum recursion depth exceeded in comparison',) with (77896187,)"
       ]
      },
      {
       "output_type": "stream",
       "stream": "stdout",
       "text": [
        "\n",
        "('maximum recursion depth exceeded in comparison',) with (13013567,)\n",
        "('maximum recursion depth exceeded in comparison',) with (78817696,)"
       ]
      },
      {
       "output_type": "stream",
       "stream": "stdout",
       "text": [
        "\n",
        "('maximum recursion depth exceeded in comparison',) with (13163350,)\n",
        "('maximum recursion depth exceeded in comparison',) with (79765450,)"
       ]
      },
      {
       "output_type": "stream",
       "stream": "stdout",
       "text": [
        "\n",
        "('maximum recursion depth exceeded in comparison',) with (80771740,)"
       ]
      },
      {
       "output_type": "stream",
       "stream": "stdout",
       "text": [
        "\n",
        "('maximum recursion depth exceeded in comparison',) with (13529992,)\n",
        "('maximum recursion depth exceeded in comparison',) with (2286433,)"
       ]
      },
      {
       "output_type": "stream",
       "stream": "stdout",
       "text": [
        "\n",
        "('maximum recursion depth exceeded in comparison',) with (14085419,)"
       ]
      },
      {
       "output_type": "stream",
       "stream": "stdout",
       "text": [
        "\n",
        "('maximum recursion depth exceeded in comparison',) with (18644044306,)"
       ]
      },
      {
       "output_type": "stream",
       "stream": "stdout",
       "text": [
        "\n",
        "('maximum recursion depth exceeded in comparison',) with (14428672,)\n",
        "('maximum recursion depth exceeded in comparison',) with (2408809,)\n",
        "('maximum recursion depth exceeded in comparison',) with (524770892,)"
       ]
      },
      {
       "output_type": "stream",
       "stream": "stdout",
       "text": [
        "\n",
        "('maximum recursion depth exceeded in comparison',) with (19066901578,)"
       ]
      },
      {
       "output_type": "stream",
       "stream": "stdout",
       "text": [
        "\n",
        "('maximum recursion depth exceeded in comparison',) with (535114880,)"
       ]
      },
      {
       "output_type": "stream",
       "stream": "stdout",
       "text": [
        "\n",
        "('maximum recursion depth exceeded in comparison',) with (90650366,)"
       ]
      },
      {
       "output_type": "stream",
       "stream": "stdout",
       "text": [
        "\n",
        "('maximum recursion depth exceeded in comparison',) with (544195691,)\n",
        "('maximum recursion depth exceeded in comparison',) with (93153562,)"
       ]
      },
      {
       "output_type": "stream",
       "stream": "stdout",
       "text": [
        "\n",
        "('maximum recursion depth exceeded in comparison',) with (20240104931,)\n",
        "('maximum recursion depth exceeded in comparison',) with (94862914,)"
       ]
      },
      {
       "output_type": "stream",
       "stream": "stdout",
       "text": [
        "\n",
        "('maximum recursion depth exceeded in comparison',) with (15888332,)\n",
        "('maximum recursion depth exceeded in comparison',) with (16083353,)"
       ]
      },
      {
       "output_type": "stream",
       "stream": "stdout",
       "text": [
        "\n",
        "('maximum recursion depth exceeded in comparison',) with (16117864,)\n",
        "('maximum recursion depth exceeded in comparison',) with (16348769,)"
       ]
      },
      {
       "output_type": "stream",
       "stream": "stdout",
       "text": [
        "\n",
        "('maximum recursion depth exceeded in comparison',) with (99237548,)"
       ]
      },
      {
       "output_type": "stream",
       "stream": "stdout",
       "text": [
        "\n",
        "('maximum recursion depth exceeded in comparison',) with (605951840,)"
       ]
      },
      {
       "output_type": "stream",
       "stream": "stdout",
       "text": [
        "\n",
        "('maximum recursion depth exceeded in comparison',) with (3664299544,)"
       ]
      },
      {
       "output_type": "stream",
       "stream": "stdout",
       "text": [
        "\n",
        "('maximum recursion depth exceeded in comparison',) with (2839700,)\n",
        "('maximum recursion depth exceeded in comparison',) with (17205298,)"
       ]
      },
      {
       "output_type": "stream",
       "stream": "stdout",
       "text": [
        "\n",
        "('maximum recursion depth exceeded in comparison',) with (104773999,)"
       ]
      },
      {
       "output_type": "stream",
       "stream": "stdout",
       "text": [
        "\n",
        "('maximum recursion depth exceeded in comparison',) with (3001207,)"
       ]
      },
      {
       "output_type": "stream",
       "stream": "stdout",
       "text": [
        "\n",
        "('maximum recursion depth exceeded in comparison',) with (109000564,)"
       ]
      },
      {
       "output_type": "stream",
       "stream": "stdout",
       "text": [
        "\n",
        "('maximum recursion depth exceeded in comparison',) with (18231568,)\n",
        "('maximum recursion depth exceeded in comparison',) with (110814560,)"
       ]
      },
      {
       "output_type": "stream",
       "stream": "stdout",
       "text": [
        "\n",
        "('maximum recursion depth exceeded in comparison',) with (672263833,)"
       ]
      },
      {
       "output_type": "stream",
       "stream": "stdout",
       "text": [
        "\n",
        "('maximum recursion depth exceeded in comparison',) with (19021418,)"
       ]
      },
      {
       "output_type": "stream",
       "stream": "stdout",
       "text": [
        "\n",
        "('maximum recursion depth exceeded in comparison',) with (19270102,)"
       ]
      },
      {
       "output_type": "stream",
       "stream": "stdout",
       "text": [
        "\n",
        "('maximum recursion depth exceeded in comparison',) with (3278036,)"
       ]
      },
      {
       "output_type": "stream",
       "stream": "stdout",
       "text": [
        "\n",
        "('maximum recursion depth exceeded in comparison',) with (3313657,)"
       ]
      },
      {
       "output_type": "stream",
       "stream": "stdout",
       "text": [
        "\n",
        "('maximum recursion depth exceeded in comparison',) with (20626427,)"
       ]
      },
      {
       "output_type": "stream",
       "stream": "stdout",
       "text": [
        "\n",
        "('maximum recursion depth exceeded in comparison',) with (126244007,)"
       ]
      },
      {
       "output_type": "stream",
       "stream": "stdout",
       "text": [
        "\n",
        "('maximum recursion depth exceeded in comparison',) with (3509255,)\n",
        "('maximum recursion depth exceeded in comparison',) with (126743272,)\n",
        "('maximum recursion depth exceeded in comparison',) with (27927388120,)"
       ]
      },
      {
       "output_type": "stream",
       "stream": "stdout",
       "text": [
        "\n",
        "('maximum recursion depth exceeded in comparison',) with (777459197,)\n",
        "('maximum recursion depth exceeded in comparison',) with (4733618069,)"
       ]
      },
      {
       "output_type": "stream",
       "stream": "stdout",
       "text": [
        "\n",
        "('maximum recursion depth exceeded in comparison',) with (22135592,)"
       ]
      },
      {
       "output_type": "stream",
       "stream": "stdout",
       "text": [
        "\n",
        "('maximum recursion depth exceeded in comparison',) with (132945178,)\n",
        "('maximum recursion depth exceeded in comparison',) with (22410539,)"
       ]
      },
      {
       "output_type": "stream",
       "stream": "stdout",
       "text": [
        "\n",
        "('maximum recursion depth exceeded in comparison',) with (22455941,)\n",
        "('maximum recursion depth exceeded in comparison',) with (22497554,)\n",
        "('maximum recursion depth exceeded in comparison',) with (3839017,)"
       ]
      },
      {
       "output_type": "stream",
       "stream": "stdout",
       "text": [
        "\n",
        "('maximum recursion depth exceeded in comparison',) with (141941537,)"
       ]
      },
      {
       "output_type": "stream",
       "stream": "stdout",
       "text": [
        "\n",
        "('maximum recursion depth exceeded in comparison',) with (859604560,)"
       ]
      },
      {
       "output_type": "stream",
       "stream": "stdout",
       "text": [
        "\n",
        "('maximum recursion depth exceeded in comparison',) with (865649578,)"
       ]
      },
      {
       "output_type": "stream",
       "stream": "stdout",
       "text": [
        "\n",
        "('maximum recursion depth exceeded in comparison',) with (144666967,)\n",
        "('maximum recursion depth exceeded in comparison',) with (869124701,)\n",
        "('maximum recursion depth exceeded in comparison',) with (24170098,)"
       ]
      },
      {
       "output_type": "stream",
       "stream": "stdout",
       "text": [
        "\n",
        "('maximum recursion depth exceeded in comparison',) with (146899583,)"
       ]
      },
      {
       "output_type": "stream",
       "stream": "stdout",
       "text": [
        "\n",
        "('maximum recursion depth exceeded in comparison',) with (5310079330,)\n",
        "('maximum recursion depth exceeded in comparison',) with (4134674,)"
       ]
      },
      {
       "output_type": "stream",
       "stream": "stdout",
       "text": [
        "\n",
        "('maximum recursion depth exceeded in comparison',) with (899092052,)"
       ]
      },
      {
       "output_type": "stream",
       "stream": "stdout",
       "text": [
        "\n",
        "('maximum recursion depth exceeded in comparison',) with (5559310655,)"
       ]
      },
      {
       "output_type": "stream",
       "stream": "stdout",
       "text": [
        "\n",
        "('maximum recursion depth exceeded in comparison',) with (926706241,)\n",
        "('maximum recursion depth exceeded in comparison',) with (26258444,)"
       ]
      },
      {
       "output_type": "stream",
       "stream": "stdout",
       "text": [
        "\n",
        "('maximum recursion depth exceeded in comparison',) with (4391705,)\n",
        "('maximum recursion depth exceeded in comparison',) with (159399508,)"
       ]
      },
      {
       "output_type": "stream",
       "stream": "stdout",
       "text": [
        "\n",
        "('maximum recursion depth exceeded in comparison',) with (26568664,)\n",
        "('maximum recursion depth exceeded in comparison',) with (5751206116,)\n",
        "('maximum recursion depth exceeded in comparison',) with (5784512758,)"
       ]
      },
      {
       "output_type": "stream",
       "stream": "stdout",
       "text": [
        "\n",
        "('maximum recursion depth exceeded in comparison',) with (26865098,)\n",
        "('maximum recursion depth exceeded in comparison',) with (27123407,)"
       ]
      },
      {
       "output_type": "stream",
       "stream": "stdout",
       "text": [
        "\n",
        "('maximum recursion depth exceeded in comparison',) with (980860823,)"
       ]
      },
      {
       "output_type": "stream",
       "stream": "stdout",
       "text": [
        "\n",
        "('maximum recursion depth exceeded in comparison',) with (988949006,)"
       ]
      },
      {
       "output_type": "stream",
       "stream": "stdout",
       "text": [
        "\n",
        "('maximum recursion depth exceeded in comparison',) with (165673577,)"
       ]
      },
      {
       "output_type": "stream",
       "stream": "stdout",
       "text": [
        "\n",
        "('maximum recursion depth exceeded in comparison',) with (165889916,)\n",
        "('maximum recursion depth exceeded in comparison',) with (27906113,)"
       ]
      },
      {
       "output_type": "stream",
       "stream": "stdout",
       "text": [
        "\n",
        "('maximum recursion depth exceeded in comparison',) with (27944864,)"
       ]
      },
      {
       "output_type": "stream",
       "stream": "stdout",
       "text": [
        "\n",
        "('maximum recursion depth exceeded in comparison',) with (6185886398,)"
       ]
      },
      {
       "output_type": "stream",
       "stream": "stdout",
       "text": [
        "\n",
        "('maximum recursion depth exceeded in comparison',) with (28639328,)\n",
        "('maximum recursion depth exceeded in comparison',) with (1033183046,)\n",
        "('maximum recursion depth exceeded in comparison',) with (1042182016,)"
       ]
      },
      {
       "output_type": "stream",
       "stream": "stdout",
       "text": [
        "\n",
        "('maximum recursion depth exceeded in comparison',) with (29288729,)"
       ]
      },
      {
       "output_type": "stream",
       "stream": "stdout",
       "text": [
        "\n",
        "('maximum recursion depth exceeded in comparison',) with (1056112924,)\n",
        "('maximum recursion depth exceeded in comparison',) with (1063151335,)"
       ]
      },
      {
       "output_type": "stream",
       "stream": "stdout",
       "text": [
        "\n",
        "('maximum recursion depth exceeded in comparison',) with (6454292786,)"
       ]
      },
      {
       "output_type": "stream",
       "stream": "stdout",
       "text": [
        "\n",
        "('maximum recursion depth exceeded in comparison',) with (29957782,)\n",
        "('maximum recursion depth exceeded in comparison',) with (30201878,)"
       ]
      },
      {
       "output_type": "stream",
       "stream": "stdout",
       "text": [
        "\n",
        "('maximum recursion depth exceeded in comparison',) with (181960130,)"
       ]
      },
      {
       "output_type": "stream",
       "stream": "stdout",
       "text": [
        "\n",
        "('maximum recursion depth exceeded in comparison',) with (1103381282,)"
       ]
      },
      {
       "output_type": "stream",
       "stream": "stdout",
       "text": [
        "\n",
        "('maximum recursion depth exceeded in comparison',) with (30734423,)\n",
        "('maximum recursion depth exceeded in comparison',) with (30994802,)"
       ]
      },
      {
       "output_type": "stream",
       "stream": "stdout",
       "text": [
        "\n",
        "('maximum recursion depth exceeded in comparison',) with (5322110,)"
       ]
      },
      {
       "output_type": "stream",
       "stream": "stdout",
       "text": [
        "\n",
        "('maximum recursion depth exceeded in comparison',) with (1151850616,)\n",
        "('maximum recursion depth exceeded in comparison',) with (1162185965,)"
       ]
      },
      {
       "output_type": "stream",
       "stream": "stdout",
       "text": [
        "\n",
        "('maximum recursion depth exceeded in comparison',) with (32482906,)"
       ]
      },
      {
       "output_type": "stream",
       "stream": "stdout",
       "text": [
        "\n"
       ]
      }
     ],
     "input": [
      "# ## Compute X\n",
      "x = [collatz_len(i) for i in y]"
     ],
     "language": "python",
     "prompt_number": 81
    },
    {
     "cell_type": "code",
     "metadata": {},
     "outputs": [],
     "input": [
      "# ## PLOT IT ALL\n",
      "plt.title(\"Stopping times\")\n",
      "\n",
      "plt.subplot(311)\n",
      "plt.plot(x, y, ',')\n",
      "\n",
      "plt.subplot(312)\n",
      "plt.yscale(\"log\")\n",
      "plt.plot(x, y, ',')\n",
      "\n",
      "plt.subplot(313)\n",
      "plt.yscale(\"log\")\n",
      "plt.xscale(\"log\")\n",
      "plt.plot(x, y, ',')\n",
      "\n",
      "# plt.subplot(313)\n",
      "# plt.hist(x,bins=100)\n",
      "plt.show()\n",
      "\n",
      "### to show collatz sequences \n",
      "#for i in range(1,50):\n",
      "#    plt.plot(list(collatz_seq(i)))"
     ],
     "language": "python",
     "prompt_number": 82
    },
    {
     "cell_type": "code",
     "metadata": {},
     "outputs": [
      {
       "ename": "KeyboardInterrupt",
       "evalue": "",
       "output_type": "pyerr",
       "traceback": [
        "\u001b[0;31m---------------------------------------------------------------------------\u001b[0m\n\u001b[0;31mKeyboardInterrupt\u001b[0m                         Traceback (most recent call last)",
        "\u001b[0;32m<ipython-input-35-9fbe850e3fd4>\u001b[0m in \u001b[0;36m<module>\u001b[0;34m()\u001b[0m\n\u001b[1;32m      3\u001b[0m \u001b[0mlines\u001b[0m \u001b[0;34m=\u001b[0m \u001b[0mdict\u001b[0m\u001b[0;34m(\u001b[0m\u001b[0;34m)\u001b[0m\u001b[0;34m\u001b[0m\u001b[0m\n\u001b[1;32m      4\u001b[0m \u001b[0;32mfor\u001b[0m \u001b[0mi\u001b[0m \u001b[0;32min\u001b[0m \u001b[0mrange\u001b[0m\u001b[0;34m(\u001b[0m\u001b[0;36m100\u001b[0m\u001b[0;34m)\u001b[0m\u001b[0;34m:\u001b[0m\u001b[0;34m\u001b[0m\u001b[0m\n\u001b[0;32m----> 5\u001b[0;31m     \u001b[0mvalues\u001b[0m \u001b[0;34m|=\u001b[0m \u001b[0mset\u001b[0m\u001b[0;34m(\u001b[0m\u001b[0msyracantecedents\u001b[0m\u001b[0;34m(\u001b[0m\u001b[0mtuple\u001b[0m\u001b[0;34m(\u001b[0m\u001b[0mvalues\u001b[0m\u001b[0;34m)\u001b[0m\u001b[0;34m,\u001b[0m\u001b[0mlimit\u001b[0m\u001b[0;34m=\u001b[0m\u001b[0;32mFalse\u001b[0m\u001b[0;34m)\u001b[0m\u001b[0;34m)\u001b[0m\u001b[0;34m\u001b[0m\u001b[0m\n\u001b[0m\u001b[1;32m      6\u001b[0m     \u001b[0mlines\u001b[0m\u001b[0;34m[\u001b[0m\u001b[0mi\u001b[0m\u001b[0;34m]\u001b[0m \u001b[0;34m=\u001b[0m \u001b[0mlist\u001b[0m\u001b[0;34m(\u001b[0m\u001b[0mvalues\u001b[0m\u001b[0;34m)\u001b[0m\u001b[0;34m\u001b[0m\u001b[0m\n",
        "\u001b[0;32m<ipython-input-18-995938157bd8>\u001b[0m in \u001b[0;36m__call__\u001b[0;34m(self, *args, **kwargs)\u001b[0m\n\u001b[1;32m     39\u001b[0m         \u001b[0;32melse\u001b[0m\u001b[0;34m:\u001b[0m\u001b[0;34m\u001b[0m\u001b[0m\n\u001b[1;32m     40\u001b[0m             \u001b[0;32mtry\u001b[0m\u001b[0;34m:\u001b[0m\u001b[0;34m\u001b[0m\u001b[0m\n\u001b[0;32m---> 41\u001b[0;31m                 \u001b[0mans\u001b[0m \u001b[0;34m=\u001b[0m \u001b[0mself\u001b[0m\u001b[0;34m.\u001b[0m\u001b[0mmemoized\u001b[0m\u001b[0;34m[\u001b[0m\u001b[0margs\u001b[0m\u001b[0;34m]\u001b[0m \u001b[0;34m=\u001b[0m \u001b[0mself\u001b[0m\u001b[0;34m.\u001b[0m\u001b[0mfunction\u001b[0m\u001b[0;34m(\u001b[0m\u001b[0;34m*\u001b[0m\u001b[0margs\u001b[0m\u001b[0;34m)\u001b[0m\u001b[0;34m\u001b[0m\u001b[0m\n\u001b[0m\u001b[1;32m     42\u001b[0m             \u001b[0;32mexcept\u001b[0m \u001b[0mRuntimeError\u001b[0m \u001b[0;32mas\u001b[0m \u001b[0me\u001b[0m\u001b[0;34m:\u001b[0m\u001b[0;34m\u001b[0m\u001b[0m\n\u001b[1;32m     43\u001b[0m                 \u001b[0mprint\u001b[0m\u001b[0;34m(\u001b[0m\u001b[0;34m\"{} with {}\"\u001b[0m\u001b[0;34m.\u001b[0m\u001b[0mformat\u001b[0m\u001b[0;34m(\u001b[0m\u001b[0me\u001b[0m\u001b[0;34m.\u001b[0m\u001b[0margs\u001b[0m\u001b[0;34m,\u001b[0m\u001b[0margs\u001b[0m\u001b[0;34m)\u001b[0m\u001b[0;34m)\u001b[0m\u001b[0;34m\u001b[0m\u001b[0m\n",
        "\u001b[0;32m<ipython-input-18-995938157bd8>\u001b[0m in \u001b[0;36msyracantecedents\u001b[0;34m(n, limit, *args)\u001b[0m\n\u001b[1;32m     72\u001b[0m         \u001b[0mr\u001b[0m \u001b[0;34m=\u001b[0m \u001b[0mset\u001b[0m\u001b[0;34m(\u001b[0m\u001b[0;34m)\u001b[0m\u001b[0;34m\u001b[0m\u001b[0m\n\u001b[1;32m     73\u001b[0m         \u001b[0;32mfor\u001b[0m \u001b[0mk\u001b[0m \u001b[0;32min\u001b[0m \u001b[0mn\u001b[0m\u001b[0;34m:\u001b[0m\u001b[0;34m\u001b[0m\u001b[0m\n\u001b[0;32m---> 74\u001b[0;31m             \u001b[0mr\u001b[0m \u001b[0;34m=\u001b[0m \u001b[0mr\u001b[0m\u001b[0;34m.\u001b[0m\u001b[0munion\u001b[0m\u001b[0;34m(\u001b[0m\u001b[0msyracantecedents\u001b[0m\u001b[0;34m(\u001b[0m\u001b[0mk\u001b[0m\u001b[0;34m,\u001b[0m\u001b[0mlimit\u001b[0m\u001b[0;34m=\u001b[0m\u001b[0mlimit\u001b[0m\u001b[0;34m)\u001b[0m\u001b[0;34m)\u001b[0m\u001b[0;34m\u001b[0m\u001b[0m\n\u001b[0m\u001b[1;32m     75\u001b[0m     \u001b[0;32melse\u001b[0m\u001b[0;34m:\u001b[0m\u001b[0;34m\u001b[0m\u001b[0m\n\u001b[1;32m     76\u001b[0m         \u001b[0mr\u001b[0m \u001b[0;34m=\u001b[0m \u001b[0mset\u001b[0m\u001b[0;34m(\u001b[0m\u001b[0;34m)\u001b[0m\u001b[0;34m\u001b[0m\u001b[0m\n",
        "\u001b[0;31mKeyboardInterrupt\u001b[0m: "
       ]
      }
     ],
     "input": [
      "plt.subplot(111)\n",
      "values = {1}\n",
      "lines = dict()\n",
      "for i in range(100):\n",
      "    values |= set(syracantecedents(tuple(values),limit=False))\n",
      "    lines[i] = list(values)"
     ],
     "language": "python",
     "prompt_number": 35
    },
    {
     "cell_type": "code",
     "metadata": {},
     "outputs": [],
     "input": [
      "for i in lines:\n",
      "    plt.plot(lines[i],[i]*len(lines[i]),',')\n",
      "plt.show()"
     ],
     "language": "python",
     "prompt_number": 34
    },
    {
     "cell_type": "code",
     "metadata": {},
     "outputs": [],
     "input": [
      "import sys"
     ],
     "language": "python",
     "prompt_number": 1
    },
    {
     "cell_type": "code",
     "metadata": {},
     "outputs": [
      {
       "output_type": "pyout",
       "prompt_number": 3,
       "text": [
        "1000"
       ],
       "metadata": {}
      }
     ],
     "input": [
      "sys.getrecursionlimit()"
     ],
     "language": "python",
     "prompt_number": 3
    },
    {
     "cell_type": "code",
     "metadata": {},
     "outputs": [],
     "input": [
      ""
     ],
     "language": "python"
    }
   ]
  }
 ],
 "cells": [],
 "metadata": {
  "name": ""
 },
 "nbformat": 3,
 "nbformat_minor": 0
}