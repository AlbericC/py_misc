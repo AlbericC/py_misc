{
 "metadata": {
  "name": ""
 },
 "nbformat": 3,
 "nbformat_minor": 0,
 "worksheets": [
  {
   "cells": [
    {
     "cell_type": "code",
     "collapsed": false,
     "input": [
      "from heredity import Heredity\n",
      "l = [Heredity() for _ in range(10)]\n",
      "for idx, item in enumerate(l[:-1]):\n",
      "    item.add_parent(l[idx+1])\n",
      "\n",
      "l"
     ],
     "language": "python",
     "metadata": {},
     "outputs": [
      {
       "metadata": {},
       "output_type": "pyout",
       "prompt_number": 1,
       "text": [
        "[<heredity.Heredity at 0x7f5ef05148d0>,\n",
        " <heredity.Heredity at 0x7f5ef0514860>,\n",
        " <heredity.Heredity at 0x7f5ef0514908>,\n",
        " <heredity.Heredity at 0x7f5ef0514940>,\n",
        " <heredity.Heredity at 0x7f5ef0514978>,\n",
        " <heredity.Heredity at 0x7f5ef0514be0>,\n",
        " <heredity.Heredity at 0x7f5ef05149b0>,\n",
        " <heredity.Heredity at 0x7f5ef05149e8>,\n",
        " <heredity.Heredity at 0x7f5ef05170f0>,\n",
        " <heredity.Heredity at 0x7f5ef0517128>]"
       ]
      }
     ],
     "prompt_number": 1
    },
    {
     "cell_type": "code",
     "collapsed": false,
     "input": [
      "l[6].ancestors()"
     ],
     "language": "python",
     "metadata": {},
     "outputs": [
      {
       "metadata": {},
       "output_type": "pyout",
       "prompt_number": 3,
       "text": [
        "{<heredity.Heredity at 0x7f5ef0517128>,\n",
        " <heredity.Heredity at 0x7f5ef05149e8>,\n",
        " <heredity.Heredity at 0x7f5ef05170f0>}"
       ]
      }
     ],
     "prompt_number": 3
    },
    {
     "cell_type": "code",
     "collapsed": false,
     "input": [
      "l[0].ancestors() == set(l[1:])"
     ],
     "language": "python",
     "metadata": {},
     "outputs": [
      {
       "metadata": {},
       "output_type": "pyout",
       "prompt_number": 5,
       "text": [
        "True"
       ]
      }
     ],
     "prompt_number": 5
    }
   ],
   "metadata": {}
  }
 ]
}